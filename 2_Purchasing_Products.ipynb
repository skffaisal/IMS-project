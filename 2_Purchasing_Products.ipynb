{
  "nbformat": 4,
  "nbformat_minor": 0,
  "metadata": {
    "colab": {
      "name": "2. Purchasing Products",
      "provenance": [],
      "collapsed_sections": []
    },
    "kernelspec": {
      "name": "python3",
      "display_name": "Python 3"
    },
    "language_info": {
      "name": "python"
    }
  },
  "cells": [
    {
      "cell_type": "markdown",
      "metadata": {
        "id": "R6NHgAYkxqSl"
      },
      "source": [
        "## Read Inventory"
      ]
    },
    {
      "cell_type": "code",
      "metadata": {
        "id": "jkJT24jqug9n"
      },
      "source": [
        "import json\n",
        "\n",
        "fd = open(\"record.json\",'r')\n",
        "r = fd.read()\n",
        "fd.close()\n",
        "\n",
        "records = json.loads(r)"
      ],
      "execution_count": 1,
      "outputs": []
    },
    {
      "cell_type": "code",
      "metadata": {
        "colab": {
          "base_uri": "https://localhost:8080/"
        },
        "id": "CcLYokrlus6z",
        "outputId": "76bde19b-649a-4a97-ddb4-264b8c5c15e7"
      },
      "source": [
        "records"
      ],
      "execution_count": 2,
      "outputs": [
        {
          "output_type": "execute_result",
          "data": {
            "text/plain": [
              "{'1001': {'Weight': '400g',\n",
              "  'category': 'Bakery',\n",
              "  'name': 'Choco Cake',\n",
              "  'pr': 100,\n",
              "  'qn': 34},\n",
              " '1002': {'Weight': '500g',\n",
              "  'category': 'Bakery',\n",
              "  'name': 'Milk Cake',\n",
              "  'pr': 800,\n",
              "  'qn': 100},\n",
              " '1003': {'Weight': '500 ml',\n",
              "  'category': 'Beverages',\n",
              "  'name': ' Coke Drink',\n",
              "  'pr': 85,\n",
              "  'qn': 100},\n",
              " '1004': {'Weight': '50 g',\n",
              "  'category': 'Sweet',\n",
              "  'name': 'Candy',\n",
              "  'pr': 5,\n",
              "  'qn': 1000},\n",
              " '1005': {'Weight': '50 g',\n",
              "  'category': 'supplies',\n",
              "  'name': 'Pen',\n",
              "  'pr': 20,\n",
              "  'qn': 100},\n",
              " '1006': {'Weight': '1 kg',\n",
              "  'category': 'supplies',\n",
              "  'name': 'Phone',\n",
              "  'pr': 50000,\n",
              "  'qn': 10},\n",
              " '1007': {'Weight': '2 kg',\n",
              "  'category': 'supplies',\n",
              "  'name': 'Mic',\n",
              "  'pr': 1500,\n",
              "  'qn': 0},\n",
              " '1008': {'Weight': '3 kg',\n",
              "  'category': 'supplies',\n",
              "  'name': 'Case',\n",
              "  'pr': 599,\n",
              "  'qn': 5},\n",
              " '1009': {'Weight': '1kg',\n",
              "  'category': 'Produce',\n",
              "  'name': 'Orange',\n",
              "  'pr': 500,\n",
              "  'qn': 78},\n",
              " '1010': {'Weight': '1kg',\n",
              "  'category': 'Produce',\n",
              "  'name': 'Apple',\n",
              "  'pr': 500,\n",
              "  'qn': 56},\n",
              " '1011': {'Weight': '1kg',\n",
              "  'category': 'Produce',\n",
              "  'name': 'Bananas',\n",
              "  'pr': 40,\n",
              "  'qn': 56},\n",
              " '1012': {'Weight': '1kg',\n",
              "  'category': 'Produce',\n",
              "  'name': 'Tomatoes',\n",
              "  'pr': 60,\n",
              "  'qn': 40},\n",
              " '1013': {'Weight': '500g',\n",
              "  'category': 'Produce',\n",
              "  'name': 'Squash',\n",
              "  'pr': 300,\n",
              "  'qn': 89},\n",
              " '1014': {'Weight': '1kg',\n",
              "  'category': 'Produce',\n",
              "  'name': 'Cucumber',\n",
              "  'pr': 20,\n",
              "  'qn': 34},\n",
              " '1015': {'Weight': '500g',\n",
              "  'category': 'Produce',\n",
              "  'name': 'Mushrooms',\n",
              "  'pr': 700,\n",
              "  'qn': 56},\n",
              " '1016': {'Weight': '500 ml',\n",
              "  'category': 'Dairy',\n",
              "  'name': 'Milk',\n",
              "  'pr': 40,\n",
              "  'qn': 90},\n",
              " '1017': {'Weight': '500g',\n",
              "  'category': 'Dairy',\n",
              "  'name': 'Cheese',\n",
              "  'pr': 500,\n",
              "  'qn': 56},\n",
              " '1018': {'Weight': '20g',\n",
              "  'category': 'Dairy',\n",
              "  'name': 'Yogurt',\n",
              "  'pr': 200,\n",
              "  'qn': 100},\n",
              " '1019': {'Weight': '10g',\n",
              "  'category': 'Dairy',\n",
              "  'name': 'Eggs',\n",
              "  'pr': 10,\n",
              "  'qn': 100},\n",
              " '1020': {'Weight': '500g',\n",
              "  'category': 'Dairy',\n",
              "  'name': 'Sour cream',\n",
              "  'pr': 450,\n",
              "  'qn': 78},\n",
              " '1021': {'Weight': '1kg',\n",
              "  'category': 'Meat',\n",
              "  'name': 'Fish ',\n",
              "  'pr': 1000,\n",
              "  'qn': 23},\n",
              " '1022': {'Weight': '1L',\n",
              "  'category': 'Drinks',\n",
              "  'name': 'Soda',\n",
              "  'pr': 100,\n",
              "  'qn': 100},\n",
              " '1023': {'Weight': '500g',\n",
              "  'category': 'Beverages',\n",
              "  'name': 'Coffee',\n",
              "  'pr': 500,\n",
              "  'qn': 800},\n",
              " '1024': {'Weight': '1kg',\n",
              "  'category': 'Beverages',\n",
              "  'name': 'Tea',\n",
              "  'pr': 600,\n",
              "  'qn': 780},\n",
              " '1025': {'Weight': '20g',\n",
              "  'category': 'Bakery',\n",
              "  'name': 'Sandwich',\n",
              "  'pr': 200,\n",
              "  'qn': 34},\n",
              " '1026': {'Weight': '500g',\n",
              "  'category': 'Snaks',\n",
              "  'name': 'Potato chips',\n",
              "  'pr': 300,\n",
              "  'qn': 45},\n",
              " '1027': {'Weight': '500g',\n",
              "  'category': 'Dairy',\n",
              "  'name': 'Butter',\n",
              "  'pr': 500,\n",
              "  'qn': 34},\n",
              " '1028': {'Weight': '20g',\n",
              "  'category': 'Supplies',\n",
              "  'name': 'Napkins',\n",
              "  'pr': 20,\n",
              "  'qn': 100},\n",
              " '1029': {'Weight': '350g',\n",
              "  'category': 'Personal care',\n",
              "  'name': 'Shampoo',\n",
              "  'pr': 700,\n",
              "  'qn': 100},\n",
              " '1030': {'Weight': '20g',\n",
              "  'category': 'supplies',\n",
              "  'name': 'Toilet paper',\n",
              "  'pr': 50,\n",
              "  'qn': 99},\n",
              " '1031': {'Weight': '50g',\n",
              "  'category': 'Bakery',\n",
              "  'name': 'Biscuit',\n",
              "  'pr': 30,\n",
              "  'qn': 56},\n",
              " '1032': {'Weight': '67g',\n",
              "  'category': 'snaks',\n",
              "  'name': 'chips',\n",
              "  'pr': 340,\n",
              "  'qn': 67},\n",
              " '1033': {'Weight': '500g',\n",
              "  'category': 'supplies',\n",
              "  'name': 'Detergent',\n",
              "  'pr': 600,\n",
              "  'qn': 67},\n",
              " '1034': {'Weight': '100g',\n",
              "  'category': 'Supplies',\n",
              "  'name': 'Garbage bag',\n",
              "  'pr': 600,\n",
              "  'qn': 100},\n",
              " '1035': {'Weight': '500g',\n",
              "  'category': 'Dessert',\n",
              "  'name': 'Ice cream',\n",
              "  'pr': 500,\n",
              "  'qn': 123}}"
            ]
          },
          "metadata": {},
          "execution_count": 2
        }
      ]
    },
    {
      "cell_type": "markdown",
      "metadata": {
        "id": "WI5f7HTuxwzb"
      },
      "source": [
        "## Purchase"
      ]
    },
    {
      "cell_type": "code",
      "metadata": {
        "colab": {
          "base_uri": "https://localhost:8080/"
        },
        "id": "c4E4eIvyuth0",
        "outputId": "4b428469-1454-4ef5-85ba-d5e0676a2457"
      },
      "source": [
        "ph=int(input(\"Enter your phone number: \"))\n",
        "ui_prod  = str(input(\"Enter the product_Id: \"))\n",
        "ui_quant = int(input(\"Enter the quantity: \"))\n",
        "\n",
        "if (ui_quant > records[ui_prod]['qn']):                                                       # condition if customer exceeds the product quantity\n",
        "  print(f\"Sorry,we only have {records[ui_prod]['qn']} quantity of this product available \")\n",
        "else:\n",
        "  print(\"Product: \", records[ui_prod]['name'])\n",
        "  print(\"Price: \", records[ui_prod]['pr'])\n",
        "  print(\"Billing Amount: \", records[ui_prod]['pr'] * ui_quant)\n",
        "  records[ui_prod]['qn'] = records[ui_prod]['qn'] - ui_quant\n"
      ],
      "execution_count": 75,
      "outputs": [
        {
          "output_type": "stream",
          "name": "stdout",
          "text": [
            "Enter your phone number: 9675849065\n",
            "Enter the product_Id: 1001\n",
            "Enter the quantity: 500\n",
            "Sorry,we only have 30 quantity of this product available \n"
          ]
        }
      ]
    },
    {
      "cell_type": "markdown",
      "metadata": {
        "id": "3h8S8JBVx1_D"
      },
      "source": [
        "## Update Inventory after purchase"
      ]
    },
    {
      "cell_type": "code",
      "metadata": {
        "id": "TO68fUvvwzXt"
      },
      "source": [
        "js = json.dumps(records)\n",
        "\n",
        "fd = open(\"record.json\",'w')\n",
        "fd.write(js)\n",
        "fd.close()"
      ],
      "execution_count": 73,
      "outputs": []
    },
    {
      "cell_type": "markdown",
      "metadata": {
        "id": "pl_p5yDpyu_9"
      },
      "source": [
        "## Sales JSON"
      ]
    },
    {
      "cell_type": "code",
      "metadata": {
        "id": "FwBezn_LxBV4"
      },
      "source": [
        "sales = {1 : {'prod' : ui_prod, 'qn' : ui_quant, 'amount': records[ui_prod]['pr'] * ui_quant, 'ph_number':ph}}\n"
      ],
      "execution_count": 5,
      "outputs": []
    },
    {
      "cell_type": "code",
      "metadata": {
        "id": "nD2mpico3eKf"
      },
      "source": [
        "sales[(len(sales)+1)]={'prod' : ui_prod, 'qn' : ui_quant, 'amount': records[ui_prod]['pr'] * ui_quant, 'ph_number':ph}\n"
      ],
      "execution_count": null,
      "outputs": []
    },
    {
      "cell_type": "code",
      "metadata": {
        "colab": {
          "base_uri": "https://localhost:8080/"
        },
        "id": "XYgtflJox1XA",
        "outputId": "cf38b8cd-36a5-4c69-853c-7d1604b9083d"
      },
      "source": [
        "sales"
      ],
      "execution_count": 81,
      "outputs": [
        {
          "output_type": "execute_result",
          "data": {
            "text/plain": [
              "{1: {'amount': 3200, 'ph_number': 7678695659, 'prod': '1002', 'qn': 4},\n",
              " 2: {'amount': 2250, 'ph_number': 9878953960, 'prod': '1020', 'qn': 5},\n",
              " 3: {'amount': 7000, 'ph_number': 9875648307, 'prod': '1021', 'qn': 7},\n",
              " 4: {'amount': 150, 'ph_number': 9675648704, 'prod': '1030', 'qn': 3},\n",
              " 5: {'amount': 3600, 'ph_number': 7869576950, 'prod': '1034', 'qn': 6},\n",
              " 6: {'amount': 2000, 'ph_number': 9857684937, 'prod': '1023', 'qn': 4},\n",
              " 7: {'amount': 2040, 'ph_number': 7869564890, 'prod': '1032', 'qn': 6},\n",
              " 8: {'amount': 1000, 'ph_number': 9127496046, 'prod': '1018', 'qn': 5},\n",
              " 9: {'amount': 1000, 'ph_number': 9856745589, 'prod': '1009', 'qn': 2},\n",
              " 10: {'amount': 2396, 'ph_number': 8564789054, 'prod': '1008', 'qn': 4},\n",
              " 11: {'amount': 2100, 'ph_number': 9857684056, 'prod': '1015', 'qn': 3},\n",
              " 12: {'amount': 600, 'ph_number': 8574893750, 'prod': '1013', 'qn': 2},\n",
              " 13: {'amount': 180, 'ph_number': 9867455904, 'prod': '1012', 'qn': 3},\n",
              " 14: {'amount': 3500, 'ph_number': 875940567, 'prod': '1029', 'qn': 5},\n",
              " 15: {'amount': 600, 'ph_number': 96464758760, 'prod': '1025', 'qn': 3},\n",
              " 16: {'amount': 400, 'ph_number': 9085647835, 'prod': '1001', 'qn': 4},\n",
              " 17: {'amount': 20, 'ph_number': 9657483956, 'prod': '1004', 'qn': 4},\n",
              " 18: {'amount': 2000, 'ph_number': 9566856474, 'prod': '1009', 'qn': 4},\n",
              " 19: {'amount': 200, 'ph_number': 9857645608, 'prod': '1016', 'qn': 5},\n",
              " 20: {'amount': 50, 'ph_number': 9576894538, 'prod': '1030', 'qn': 1}}"
            ]
          },
          "metadata": {},
          "execution_count": 81
        }
      ]
    },
    {
      "cell_type": "code",
      "metadata": {
        "colab": {
          "base_uri": "https://localhost:8080/",
          "height": 137
        },
        "id": "LRbOdbiUycNe",
        "outputId": "5f6f53bb-e755-4d80-978d-3a195b4c25fb"
      },
      "source": [
        "sale = json.dumps(sales)\n",
        "sale\n",
        "\n"
      ],
      "execution_count": 82,
      "outputs": [
        {
          "output_type": "execute_result",
          "data": {
            "application/vnd.google.colaboratory.intrinsic+json": {
              "type": "string"
            },
            "text/plain": [
              "'{\"1\": {\"prod\": \"1002\", \"qn\": 4, \"amount\": 3200, \"ph_number\": 7678695659}, \"2\": {\"prod\": \"1020\", \"qn\": 5, \"amount\": 2250, \"ph_number\": 9878953960}, \"3\": {\"prod\": \"1021\", \"qn\": 7, \"amount\": 7000, \"ph_number\": 9875648307}, \"4\": {\"prod\": \"1030\", \"qn\": 3, \"amount\": 150, \"ph_number\": 9675648704}, \"5\": {\"prod\": \"1034\", \"qn\": 6, \"amount\": 3600, \"ph_number\": 7869576950}, \"6\": {\"prod\": \"1023\", \"qn\": 4, \"amount\": 2000, \"ph_number\": 9857684937}, \"7\": {\"prod\": \"1032\", \"qn\": 6, \"amount\": 2040, \"ph_number\": 7869564890}, \"8\": {\"prod\": \"1018\", \"qn\": 5, \"amount\": 1000, \"ph_number\": 9127496046}, \"9\": {\"prod\": \"1009\", \"qn\": 2, \"amount\": 1000, \"ph_number\": 9856745589}, \"10\": {\"prod\": \"1008\", \"qn\": 4, \"amount\": 2396, \"ph_number\": 8564789054}, \"11\": {\"prod\": \"1015\", \"qn\": 3, \"amount\": 2100, \"ph_number\": 9857684056}, \"12\": {\"prod\": \"1013\", \"qn\": 2, \"amount\": 600, \"ph_number\": 8574893750}, \"13\": {\"prod\": \"1012\", \"qn\": 3, \"amount\": 180, \"ph_number\": 9867455904}, \"14\": {\"prod\": \"1029\", \"qn\": 5, \"amount\": 3500, \"ph_number\": 875940567}, \"15\": {\"prod\": \"1025\", \"qn\": 3, \"amount\": 600, \"ph_number\": 96464758760}, \"16\": {\"prod\": \"1001\", \"qn\": 4, \"amount\": 400, \"ph_number\": 9085647835}, \"17\": {\"prod\": \"1004\", \"qn\": 4, \"amount\": 20, \"ph_number\": 9657483956}, \"18\": {\"prod\": \"1009\", \"qn\": 4, \"amount\": 2000, \"ph_number\": 9566856474}, \"19\": {\"prod\": \"1016\", \"qn\": 5, \"amount\": 200, \"ph_number\": 9857645608}, \"20\": {\"prod\": \"1030\", \"qn\": 1, \"amount\": 50, \"ph_number\": 9576894538}}'"
            ]
          },
          "metadata": {},
          "execution_count": 82
        }
      ]
    },
    {
      "cell_type": "code",
      "metadata": {
        "id": "VY3lgIWZMZx9"
      },
      "source": [
        "fd=open(\"sales.json\",\"w\")\n",
        "fd.write(sale)\n",
        "fd.close()\n"
      ],
      "execution_count": 83,
      "outputs": []
    },
    {
      "cell_type": "code",
      "metadata": {
        "colab": {
          "base_uri": "https://localhost:8080/"
        },
        "id": "yS_Y1dIIyT_I",
        "outputId": "bd054ec7-e525-43a1-f54e-3b705adaee24"
      },
      "source": [
        "a=0\n",
        "for i in range(1,len(sales)+1):\n",
        "  print(sales[i]['amount'])\n",
        "  a=a+sales[i]['amount']\n",
        "print(\"This is the list of amount paid per customer\")\n",
        "print(\"And the sum of the above list will give\")\n",
        "print(\"Rs.\",a)"
      ],
      "execution_count": 88,
      "outputs": [
        {
          "output_type": "stream",
          "name": "stdout",
          "text": [
            "3200\n",
            "2250\n",
            "7000\n",
            "150\n",
            "3600\n",
            "2000\n",
            "2040\n",
            "1000\n",
            "1000\n",
            "2396\n",
            "2100\n",
            "600\n",
            "180\n",
            "3500\n",
            "600\n",
            "400\n",
            "20\n",
            "2000\n",
            "200\n",
            "50\n",
            "This is the list of amount paid per customer\n",
            "And the sum of the above list will give\n",
            "Rs. 34286\n"
          ]
        }
      ]
    }
  ]
}